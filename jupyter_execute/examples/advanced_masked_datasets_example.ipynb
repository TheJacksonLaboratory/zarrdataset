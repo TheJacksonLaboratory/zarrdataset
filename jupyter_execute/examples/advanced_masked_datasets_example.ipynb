{
 "cells": [
  {
   "cell_type": "markdown",
   "id": "2235a504",
   "metadata": {},
   "source": [
    "# Custom masks for sampling specific regions from images with ZarrDataset"
   ]
  },
  {
   "cell_type": "code",
   "execution_count": null,
   "id": "e3fd59f7",
   "metadata": {},
   "outputs": [],
   "source": [
    "import zarrdataset as zds\n",
    "import zarr"
   ]
  },
  {
   "cell_type": "code",
   "execution_count": null,
   "id": "b726dd89",
   "metadata": {},
   "outputs": [],
   "source": [
    "# These are images from the Image Data Resource (IDR) \n",
    "# https://idr.openmicroscopy.org/ that are publicly available and were \n",
    "# converted to the OME-NGFF (Zarr) format by the OME group. More examples\n",
    "# can be found at Public OME-Zarr data (Nov. 2020)\n",
    "# https://www.openmicroscopy.org/2020/11/04/zarr-data.html\n",
    "\n",
    "filenames = [\"https://uk1s3.embassy.ebi.ac.uk/idr/zarr/v0.4/idr0073A/9798462.zarr\"]"
   ]
  },
  {
   "cell_type": "code",
   "execution_count": null,
   "id": "99aa1a90",
   "metadata": {},
   "outputs": [],
   "source": [
    "import random\n",
    "import numpy as np\n",
    "\n",
    "# For reproducibility\n",
    "np.random.seed(478963)\n",
    "random.seed(478965)"
   ]
  },
  {
   "cell_type": "code",
   "execution_count": null,
   "id": "f8c5a3c2",
   "metadata": {},
   "outputs": [],
   "source": [
    "z_img = zarr.open(filenames[0], mode=\"r\")\n",
    "z_img[\"0\"].info"
   ]
  },
  {
   "cell_type": "code",
   "execution_count": null,
   "id": "c7dabfff",
   "metadata": {},
   "outputs": [],
   "source": [
    "import numpy as np\n",
    "import matplotlib.pyplot as plt\n",
    "plt.imshow(np.moveaxis(z_img[\"4\"][0, :, 0], 0, -1))\n",
    "plt.show()"
   ]
  },
  {
   "cell_type": "markdown",
   "id": "74043956",
   "metadata": {},
   "source": [
    "Define a mask from where patches can be extracted"
   ]
  },
  {
   "cell_type": "code",
   "execution_count": null,
   "id": "071758f0",
   "metadata": {},
   "outputs": [],
   "source": [
    "from skimage import color, filters, morphology"
   ]
  },
  {
   "cell_type": "code",
   "execution_count": null,
   "id": "57c9103b",
   "metadata": {},
   "outputs": [],
   "source": [
    "im_gray = color.rgb2gray(z_img[\"4\"][0, :, 0], channel_axis=0)\n",
    "thresh = filters.threshold_otsu(im_gray)\n",
    "\n",
    "mask = im_gray > thresh\n",
    "mask = morphology.remove_small_objects(mask == 0, min_size=16 ** 2,\n",
    "                                       connectivity=2)\n",
    "mask = morphology.remove_small_holes(mask, area_threshold=128)\n",
    "mask = morphology.binary_erosion(mask, morphology.disk(8))\n",
    "mask = morphology.binary_dilation(mask, morphology.disk(8))"
   ]
  },
  {
   "cell_type": "code",
   "execution_count": null,
   "id": "f9702871",
   "metadata": {},
   "outputs": [],
   "source": [
    "plt.imshow(mask)\n",
    "plt.show()"
   ]
  },
  {
   "cell_type": "code",
   "execution_count": null,
   "id": "2118a054",
   "metadata": {},
   "outputs": [],
   "source": [
    "plt.imshow(np.moveaxis(z_img[\"4\"][0, :, 0], 0, -1))\n",
    "plt.imshow(mask, cmap=\"gray\", alpha=1.0*(mask < 1))\n",
    "plt.show()"
   ]
  },
  {
   "cell_type": "markdown",
   "id": "a6f2a2b6",
   "metadata": {},
   "source": [
    "## Extract patches of size 512x512 pixels from a Whole Slide Image (WSI)"
   ]
  },
  {
   "cell_type": "markdown",
   "id": "8caf1867",
   "metadata": {},
   "source": [
    "Sample the image uniformly in a squared grid pattern"
   ]
  },
  {
   "cell_type": "code",
   "execution_count": null,
   "id": "08c3fac2",
   "metadata": {},
   "outputs": [],
   "source": [
    "patch_size = dict(Y=512, X=512)\n",
    "patch_sampler = zds.PatchSampler(patch_size=patch_size)"
   ]
  },
  {
   "cell_type": "markdown",
   "id": "36d9efde",
   "metadata": {},
   "source": [
    "Use the ZarrDataset class to enable extraction of samples from masked regions.\n",
    "\n",
    "An extra dimension is added to the mask, so it matches the number of spatial axes in the image"
   ]
  },
  {
   "cell_type": "code",
   "execution_count": null,
   "id": "85047b0d",
   "metadata": {},
   "outputs": [],
   "source": [
    "image_specs = zds.ImagesDatasetSpecs(\n",
    "  filenames=filenames,\n",
    "  data_group=\"1\",\n",
    "  source_axes=\"TCZYX\",\n",
    ")\n",
    "\n",
    "# Use the MasksDatasetSpecs to add the specifications of the masks.\n",
    "#masks_specs = zds.MasksDatasetSpecs(\n",
    "masks_specs = zds.LabelsDatasetSpecs(\n",
    "  filenames=[mask],\n",
    "  source_axes=\"YX\",\n",
    "  axes=\"ZYX\",\n",
    "  modality=\"masks\",\n",
    ")\n",
    "\n",
    "my_dataset = zds.ZarrDataset([image_specs, masks_specs],\n",
    "                             patch_sampler=patch_sampler)"
   ]
  },
  {
   "cell_type": "code",
   "execution_count": null,
   "id": "166ac371",
   "metadata": {},
   "outputs": [],
   "source": [
    "ds_iterator = iter(my_dataset)"
   ]
  },
  {
   "cell_type": "code",
   "execution_count": null,
   "id": "760d4717",
   "metadata": {},
   "outputs": [],
   "source": [
    "sample = next(ds_iterator)\n",
    "type(sample[0]), sample[0].shape, sample[0].dtype\n",
    "type(sample[1]), sample[1].shape, sample[1].dtype"
   ]
  },
  {
   "cell_type": "code",
   "execution_count": null,
   "id": "3e93f5e0",
   "metadata": {},
   "outputs": [],
   "source": [
    "plt.imshow(np.moveaxis(sample[0][0, :, 0], 0, -1))\n",
    "plt.show()"
   ]
  },
  {
   "cell_type": "code",
   "execution_count": null,
   "id": "79593d0b",
   "metadata": {},
   "outputs": [],
   "source": [
    "plt.imshow(sample[1][0])\n",
    "plt.show()"
   ]
  },
  {
   "cell_type": "code",
   "execution_count": null,
   "id": "ae772d43",
   "metadata": {},
   "outputs": [],
   "source": [
    "samples = []\n",
    "labels = []\n",
    "for i, sample in enumerate(my_dataset):\n",
    "    samples.append(np.moveaxis(sample[0][0, :, 0], 0, -1))\n",
    "    labels.append(sample[1][0])\n",
    "\n",
    "    if i >= 4:\n",
    "        # Take only five samples for illustration purposes\n",
    "        break\n",
    "\n",
    "samples = np.hstack(samples)\n",
    "labels = np.hstack(labels)"
   ]
  },
  {
   "cell_type": "code",
   "execution_count": null,
   "id": "b058550a",
   "metadata": {},
   "outputs": [],
   "source": [
    "plt.imshow(samples)\n",
    "plt.show()"
   ]
  },
  {
   "cell_type": "code",
   "execution_count": null,
   "id": "e36a835c",
   "metadata": {},
   "outputs": [],
   "source": [
    "plt.imshow(labels)\n",
    "plt.show()"
   ]
  },
  {
   "cell_type": "markdown",
   "id": "41925718",
   "metadata": {},
   "source": [
    "## Use a function to generate the masks for each image in the dataset\n",
    "\n",
    "Get only patches that are covered by at least 1/16th of their area by the mask"
   ]
  },
  {
   "cell_type": "code",
   "execution_count": null,
   "id": "453e9e03",
   "metadata": {},
   "outputs": [],
   "source": [
    "patch_size = dict(Y=512, X=512)\n",
    "patch_sampler = zds.PatchSampler(patch_size=patch_size, min_area=1/16)"
   ]
  },
  {
   "cell_type": "markdown",
   "id": "2573df86",
   "metadata": {},
   "source": [
    "Apply WSITissueMaskGenerator transform to each image in the dataset to define each sampling mask"
   ]
  },
  {
   "cell_type": "code",
   "execution_count": null,
   "id": "c6102312",
   "metadata": {},
   "outputs": [],
   "source": [
    "mask_func = zds.WSITissueMaskGenerator(mask_scale=1,\n",
    "                                       min_size=16,\n",
    "                                       area_threshold=128,\n",
    "                                       axes=\"ZYX\")"
   ]
  },
  {
   "cell_type": "markdown",
   "id": "65c61167",
   "metadata": {},
   "source": [
    "Because the input image (zarr group \"1\") is large, computing the mask directly on that could require high computational resources.\n",
    "\n",
    "For that reason, use a donwsampled version of that image instead by pointing `mask_data_group=\"4\"` to use a 1:16 downsampled version of the input image.\n",
    "\n",
    "The `mask_axes` should match the ones that WSITissueMaskGenerator requies as input (\"YXC\"). To do that, a ROI can be specified to take just the spatial and channel axes from the input image with `mask_roi=\"(0,0,0,0,0):(1,-1,1,-1,-1)\"`, and rearrange the output axes with `mask_axes=\"YXC\"`."
   ]
  },
  {
   "cell_type": "code",
   "execution_count": null,
   "id": "45d81553",
   "metadata": {},
   "outputs": [],
   "source": [
    "image_specs = zds.ImagesDatasetSpecs(\n",
    "  filenames=filenames,\n",
    "  data_group=\"1\",\n",
    "  source_axes=\"TCZYX\",\n",
    ")\n",
    "\n",
    "# Use the MasksDatasetSpecs to add the specifications of the masks.\n",
    "# The mask generation function is added as `image_loader_func` parameter of the dataset specification for masks.\n",
    "masks_specs = zds.MasksDatasetSpecs(\n",
    "  filenames=filenames,\n",
    "  data_group=\"4\",\n",
    "  source_axes=\"TCZYX\",\n",
    "  axes=\"YXC\",\n",
    "  roi=\"(0,0,0,0,0):(1,-1,1,-1,-1)\",\n",
    "  image_loader_func=mask_func,\n",
    ")\n",
    "\n",
    "my_dataset = zds.ZarrDataset([image_specs, masks_specs],\n",
    "                             patch_sampler=patch_sampler,\n",
    "                             shuffle=True)"
   ]
  },
  {
   "cell_type": "code",
   "execution_count": null,
   "id": "e25d6d9d",
   "metadata": {},
   "outputs": [],
   "source": [
    "samples = []\n",
    "\n",
    "for i, sample in enumerate(my_dataset):\n",
    "    samples.append(np.moveaxis(sample[0, :, 0], 0, -1))\n",
    "\n",
    "    if i >= 4:\n",
    "        # Take only five samples for illustration purposes\n",
    "        break\n",
    "\n",
    "samples = np.hstack(samples)"
   ]
  },
  {
   "cell_type": "code",
   "execution_count": null,
   "id": "68bd71a2",
   "metadata": {},
   "outputs": [],
   "source": [
    "plt.imshow(samples)\n",
    "plt.show()"
   ]
  }
 ],
 "metadata": {
  "jupytext": {
   "text_representation": {
    "extension": ".md",
    "format_name": "myst",
    "format_version": 0.13,
    "jupytext_version": "1.15.1"
   }
  },
  "kernelspec": {
   "display_name": "Python 3 (ipykernel)",
   "language": "python",
   "name": "python3"
  },
  "source_map": [
   12,
   16,
   21,
   31,
   40,
   45,
   50,
   54,
   58,
   70,
   75,
   79,
   83,
   87,
   90,
   96,
   116,
   120,
   126,
   131,
   136,
   151,
   156,
   159,
   164,
   167,
   171,
   176,
   184,
   207,
   220
  ]
 },
 "nbformat": 4,
 "nbformat_minor": 5
}